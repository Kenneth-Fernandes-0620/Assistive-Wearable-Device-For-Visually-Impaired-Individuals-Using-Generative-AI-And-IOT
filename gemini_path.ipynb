{
  "cells": [
    {
      "cell_type": "code",
      "execution_count": 15,
      "metadata": {},
      "outputs": [
        {
          "name": "stdout",
          "output_type": "stream",
          "text": [
            "Requirement already satisfied: google-generativeai in c:\\users\\kenny\\anaconda3\\envs\\tinyllava\\lib\\site-packages (0.7.1)\n",
            "Requirement already satisfied: pathlib in c:\\users\\kenny\\anaconda3\\envs\\tinyllava\\lib\\site-packages (1.0.1)\n",
            "Requirement already satisfied: google-ai-generativelanguage==0.6.6 in c:\\users\\kenny\\anaconda3\\envs\\tinyllava\\lib\\site-packages (from google-generativeai) (0.6.6)\n",
            "Requirement already satisfied: google-api-core in c:\\users\\kenny\\anaconda3\\envs\\tinyllava\\lib\\site-packages (from google-generativeai) (2.19.1)\n",
            "Requirement already satisfied: google-api-python-client in c:\\users\\kenny\\anaconda3\\envs\\tinyllava\\lib\\site-packages (from google-generativeai) (2.135.0)\n",
            "Requirement already satisfied: google-auth>=2.15.0 in c:\\users\\kenny\\anaconda3\\envs\\tinyllava\\lib\\site-packages (from google-generativeai) (2.31.0)\n",
            "Requirement already satisfied: protobuf in c:\\users\\kenny\\anaconda3\\envs\\tinyllava\\lib\\site-packages (from google-generativeai) (4.25.3)\n",
            "Requirement already satisfied: pydantic in c:\\users\\kenny\\anaconda3\\envs\\tinyllava\\lib\\site-packages (from google-generativeai) (2.8.0)\n",
            "Requirement already satisfied: tqdm in c:\\users\\kenny\\anaconda3\\envs\\tinyllava\\lib\\site-packages (from google-generativeai) (4.66.4)\n",
            "Requirement already satisfied: typing-extensions in c:\\users\\kenny\\anaconda3\\envs\\tinyllava\\lib\\site-packages (from google-generativeai) (4.12.2)\n",
            "Requirement already satisfied: proto-plus<2.0.0dev,>=1.22.3 in c:\\users\\kenny\\anaconda3\\envs\\tinyllava\\lib\\site-packages (from google-ai-generativelanguage==0.6.6->google-generativeai) (1.24.0)\n",
            "Requirement already satisfied: googleapis-common-protos<2.0.dev0,>=1.56.2 in c:\\users\\kenny\\anaconda3\\envs\\tinyllava\\lib\\site-packages (from google-api-core->google-generativeai) (1.63.2)\n",
            "Requirement already satisfied: requests<3.0.0.dev0,>=2.18.0 in c:\\users\\kenny\\anaconda3\\envs\\tinyllava\\lib\\site-packages (from google-api-core->google-generativeai) (2.32.3)\n",
            "Requirement already satisfied: cachetools<6.0,>=2.0.0 in c:\\users\\kenny\\anaconda3\\envs\\tinyllava\\lib\\site-packages (from google-auth>=2.15.0->google-generativeai) (5.3.3)\n",
            "Requirement already satisfied: pyasn1-modules>=0.2.1 in c:\\users\\kenny\\anaconda3\\envs\\tinyllava\\lib\\site-packages (from google-auth>=2.15.0->google-generativeai) (0.4.0)\n",
            "Requirement already satisfied: rsa<5,>=3.1.4 in c:\\users\\kenny\\anaconda3\\envs\\tinyllava\\lib\\site-packages (from google-auth>=2.15.0->google-generativeai) (4.9)\n",
            "Requirement already satisfied: httplib2<1.dev0,>=0.19.0 in c:\\users\\kenny\\anaconda3\\envs\\tinyllava\\lib\\site-packages (from google-api-python-client->google-generativeai) (0.22.0)\n",
            "Requirement already satisfied: google-auth-httplib2<1.0.0,>=0.2.0 in c:\\users\\kenny\\anaconda3\\envs\\tinyllava\\lib\\site-packages (from google-api-python-client->google-generativeai) (0.2.0)\n",
            "Requirement already satisfied: uritemplate<5,>=3.0.1 in c:\\users\\kenny\\anaconda3\\envs\\tinyllava\\lib\\site-packages (from google-api-python-client->google-generativeai) (4.1.1)\n",
            "Requirement already satisfied: annotated-types>=0.4.0 in c:\\users\\kenny\\anaconda3\\envs\\tinyllava\\lib\\site-packages (from pydantic->google-generativeai) (0.7.0)\n",
            "Requirement already satisfied: pydantic-core==2.20.0 in c:\\users\\kenny\\anaconda3\\envs\\tinyllava\\lib\\site-packages (from pydantic->google-generativeai) (2.20.0)\n",
            "Requirement already satisfied: colorama in c:\\users\\kenny\\anaconda3\\envs\\tinyllava\\lib\\site-packages (from tqdm->google-generativeai) (0.4.6)\n",
            "Requirement already satisfied: grpcio<2.0dev,>=1.33.2 in c:\\users\\kenny\\anaconda3\\envs\\tinyllava\\lib\\site-packages (from google-api-core[grpc]!=2.0.*,!=2.1.*,!=2.10.*,!=2.2.*,!=2.3.*,!=2.4.*,!=2.5.*,!=2.6.*,!=2.7.*,!=2.8.*,!=2.9.*,<3.0.0dev,>=1.34.1->google-ai-generativelanguage==0.6.6->google-generativeai) (1.64.1)\n",
            "Requirement already satisfied: grpcio-status<2.0.dev0,>=1.33.2 in c:\\users\\kenny\\anaconda3\\envs\\tinyllava\\lib\\site-packages (from google-api-core[grpc]!=2.0.*,!=2.1.*,!=2.10.*,!=2.2.*,!=2.3.*,!=2.4.*,!=2.5.*,!=2.6.*,!=2.7.*,!=2.8.*,!=2.9.*,<3.0.0dev,>=1.34.1->google-ai-generativelanguage==0.6.6->google-generativeai) (1.62.2)\n",
            "Requirement already satisfied: pyparsing!=3.0.0,!=3.0.1,!=3.0.2,!=3.0.3,<4,>=2.4.2 in c:\\users\\kenny\\anaconda3\\envs\\tinyllava\\lib\\site-packages (from httplib2<1.dev0,>=0.19.0->google-api-python-client->google-generativeai) (3.1.2)\n",
            "Requirement already satisfied: pyasn1<0.7.0,>=0.4.6 in c:\\users\\kenny\\anaconda3\\envs\\tinyllava\\lib\\site-packages (from pyasn1-modules>=0.2.1->google-auth>=2.15.0->google-generativeai) (0.6.0)\n",
            "Requirement already satisfied: charset-normalizer<4,>=2 in c:\\users\\kenny\\anaconda3\\envs\\tinyllava\\lib\\site-packages (from requests<3.0.0.dev0,>=2.18.0->google-api-core->google-generativeai) (3.3.2)\n",
            "Requirement already satisfied: idna<4,>=2.5 in c:\\users\\kenny\\anaconda3\\envs\\tinyllava\\lib\\site-packages (from requests<3.0.0.dev0,>=2.18.0->google-api-core->google-generativeai) (3.7)\n",
            "Requirement already satisfied: urllib3<3,>=1.21.1 in c:\\users\\kenny\\anaconda3\\envs\\tinyllava\\lib\\site-packages (from requests<3.0.0.dev0,>=2.18.0->google-api-core->google-generativeai) (2.2.2)\n",
            "Requirement already satisfied: certifi>=2017.4.17 in c:\\users\\kenny\\anaconda3\\envs\\tinyllava\\lib\\site-packages (from requests<3.0.0.dev0,>=2.18.0->google-api-core->google-generativeai) (2024.6.2)\n"
          ]
        }
      ],
      "source": [
        "%pip install google-generativeai pathlib"
      ]
    },
    {
      "cell_type": "code",
      "execution_count": 6,
      "metadata": {},
      "outputs": [
        {
          "name": "stdout",
          "output_type": "stream",
          "text": [
            "A teal car is parked in front of a yellow building with two brown wooden doors. The car is facing the left side of the image, and the front driver's side wheel is visible. The building has a white trim around the doors. There is a small patch of greenery on the top left corner of the image.\n"
          ]
        }
      ],
      "source": [
        "import google.generativeai as genai\n",
        "from PIL import Image\n",
        "\n",
        "image_path = \"./car.jpg\"\n",
        "image_data = Image.open(image_path)\n",
        "\n",
        "model = genai.GenerativeModel('gemini-1.5-flash')\n",
        "\n",
        "prompt = \"Describe this image, do not reveal that this is an image\"\n",
        "\n",
        "response = model.generate_content([prompt, image_data])\n",
        "caption = response.text\n",
        "print(caption)\n"
      ]
    }
  ],
  "metadata": {
    "colab": {
      "provenance": []
    },
    "kernelspec": {
      "display_name": "Python 3",
      "name": "python3"
    },
    "language_info": {
      "codemirror_mode": {
        "name": "ipython",
        "version": 3
      },
      "file_extension": ".py",
      "mimetype": "text/x-python",
      "name": "python",
      "nbconvert_exporter": "python",
      "pygments_lexer": "ipython3",
      "version": "3.10.14"
    }
  },
  "nbformat": 4,
  "nbformat_minor": 0
}
